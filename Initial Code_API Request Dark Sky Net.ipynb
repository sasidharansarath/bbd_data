{
 "cells": [
  {
   "cell_type": "code",
   "execution_count": 18,
   "metadata": {},
   "outputs": [
    {
     "name": "stdout",
     "output_type": "stream",
     "text": [
      "Latitude:  52.5143  Longitude:  13.3227\n",
      "\n",
      "DateTime:  2018-10-17 11:00:00\n",
      "\n",
      "UNIXtime:  1539774000\n",
      "\n",
      "https://api.darksky.net/forecast/e2bdab8f57436bcf7b634998ab5e3fa2/52.5143,13.3227,1539774000\n",
      "\n",
      "Cloud Cover: 0\n"
     ]
    }
   ],
   "source": [
    "# https://api.darksky.net/forecast/[key]/[latitude],[longitude],[time]\n",
    "\n",
    "import json, urllib\n",
    "import datetime # https://docs.python.org/2/library/datetime.html\n",
    "import requests # http://docs.python-requests.org/en/master/user/quickstart/\n",
    "\n",
    "api_key = \"e2bdab8f57436bcf7b634998ab5e3fa2\" # https://darksky.net/dev/account\n",
    "\n",
    "\n",
    "Berlin = [52.5143,13.3227] # https://www.gps-coordinates.net/\n",
    " \n",
    "dt = datetime.datetime(2018,10,17,11,0,0)\n",
    "\n",
    "timestamp = (dt - datetime.datetime(1970,1,1,0,0,0)).total_seconds() # https://www.tutorialspoint.com/How-to-convert-Python-date-to-Unix-timestamp\n",
    "\n",
    "par = {'time':int(timestamp)}\n",
    "\n",
    "url = \"https://api.darksky.net/forecast/\"+str(api_key)+\"/\"+str(Berlin[0])+\",\"+str(Berlin[1])+\",\"+str(int(timestamp))\n",
    "\n",
    "weather = requests.get(url)\n",
    "\n",
    "w_data = weather.json()\n",
    "\n",
    "print 'Latitude: ',Berlin[0],\"\",'Longitude: ',Berlin[1]\n",
    "print\n",
    "print 'DateTime: ', dt\n",
    "print\n",
    "print 'UNIXtime: ', int(timestamp)\n",
    "print\n",
    "print weather.url\n",
    "print\n",
    "# print w_data\n",
    "print 'Cloud Cover:',w_data['currently']['cloudCover']"
   ]
  },
  {
   "cell_type": "code",
   "execution_count": null,
   "metadata": {},
   "outputs": [],
   "source": []
  },
  {
   "cell_type": "code",
   "execution_count": null,
   "metadata": {},
   "outputs": [],
   "source": []
  }
 ],
 "metadata": {
  "kernelspec": {
   "display_name": "Python 2",
   "language": "python",
   "name": "python2"
  },
  "language_info": {
   "codemirror_mode": {
    "name": "ipython",
    "version": 2
   },
   "file_extension": ".py",
   "mimetype": "text/x-python",
   "name": "python",
   "nbconvert_exporter": "python",
   "pygments_lexer": "ipython2",
   "version": "2.7.15"
  }
 },
 "nbformat": 4,
 "nbformat_minor": 2
}
