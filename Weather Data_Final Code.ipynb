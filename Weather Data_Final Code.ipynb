{
 "cells": [
  {
   "cell_type": "code",
   "execution_count": 11,
   "metadata": {},
   "outputs": [
    {
     "name": "stdout",
     "output_type": "stream",
     "text": [
      "Latitude:  52.5143  Longitude:  13.3227\n",
      "\n",
      "InputDateTime:  2018-10-17 12:00:00\n",
      "\n",
      "InputUNIXtime:  1539777600\n",
      "\n",
      "https://api.darksky.net/forecast/e2bdab8f57436bcf7b634998ab5e3fa2/52.5143,13.3227,1539777600?units=si\n",
      "\n",
      "Index([u'apparentTemperature', u'cloudCover', u'dewPoint', u'humidity',\n",
      "       u'icon', u'ozone', u'precipIntensity', u'precipProbability',\n",
      "       u'pressure', u'summary', u'temperature', u'time', u'uvIndex',\n",
      "       u'visibility', u'windBearing', u'windGust', u'windSpeed'],\n",
      "      dtype='object')\n",
      "\n",
      "              time_std  apparentTemperature  humidity  cloudCover summary\n",
      "0  2018-10-16 22:00:00                 9.02      0.87        0.02   Clear\n",
      "1  2018-10-16 23:00:00                 8.61      0.93        0.05   Clear\n",
      "2  2018-10-17 00:00:00                 8.02      0.90        0.03   Clear\n",
      "3  2018-10-17 01:00:00                 6.92      0.93        0.03   Clear\n",
      "4  2018-10-17 02:00:00                 7.01      0.93        0.04   Clear\n",
      "5  2018-10-17 03:00:00                 7.01      0.97        0.00   Clear\n",
      "6  2018-10-17 04:00:00                 7.01      0.93        0.00   Clear\n",
      "7  2018-10-17 05:00:00                 6.61      0.96        0.00   Clear\n",
      "8  2018-10-17 06:00:00                 7.21      0.96        0.00   Clear\n",
      "9  2018-10-17 07:00:00                 9.20      0.84        0.00   Clear\n",
      "10 2018-10-17 08:00:00                12.61      0.77        0.00   Clear\n",
      "11 2018-10-17 09:00:00                14.79      0.66        0.00   Clear\n",
      "12 2018-10-17 10:00:00                17.20      0.56        0.00   Clear\n",
      "13 2018-10-17 11:00:00                19.20      0.50        0.00   Clear\n",
      "14 2018-10-17 12:00:00                20.21      0.48        0.00   Clear\n",
      "15 2018-10-17 13:00:00                20.61      0.47        0.00   Clear\n",
      "16 2018-10-17 14:00:00                20.61      0.47        0.00   Clear\n",
      "17 2018-10-17 15:00:00                19.61      0.52        0.00   Clear\n",
      "18 2018-10-17 16:00:00                18.02      0.55        0.00   Clear\n",
      "19 2018-10-17 17:00:00                15.20      0.71        0.00   Clear\n",
      "20 2018-10-17 18:00:00                13.02      0.77        0.00   Clear\n",
      "21 2018-10-17 19:00:00                12.61      0.82        0.00   Clear\n",
      "22 2018-10-17 20:00:00                11.20      0.90        0.00   Clear\n",
      "23 2018-10-17 21:00:00                10.01      0.87        0.00   Clear\n"
     ]
    },
    {
     "name": "stderr",
     "output_type": "stream",
     "text": [
      "c:\\python27\\lib\\site-packages\\ipykernel_launcher.py:31: SettingWithCopyWarning: \n",
      "A value is trying to be set on a copy of a slice from a DataFrame.\n",
      "Try using .loc[row_indexer,col_indexer] = value instead\n",
      "\n",
      "See the caveats in the documentation: http://pandas.pydata.org/pandas-docs/stable/indexing.html#indexing-view-versus-copy\n"
     ]
    }
   ],
   "source": [
    "# https://api.darksky.net/forecast/[key]/[latitude],[longitude],[time]\n",
    "\n",
    "import json, urllib\n",
    "import datetime # https://docs.python.org/2/library/datetime.html\n",
    "import requests # http://docs.python-requests.org/en/master/user/quickstart/\n",
    "import pandas as pd\n",
    "from pandas import Series, DataFrame\n",
    "# from geopy.geocoders import Nominatim # https://pypi.org/project/geopy/\n",
    "\n",
    "api_key = \"e2bdab8f57436bcf7b634998ab5e3fa2\" # https://darksky.net/dev/account\n",
    "\n",
    "\n",
    "Berlin = [52.5143,13.3227] # https://www.gps-coordinates.net/\n",
    " \n",
    "dt = datetime.datetime(2018,10,17,12,0,0)\n",
    "\n",
    "timestamp = (dt - datetime.datetime(1970,1,1,0,0,0)).total_seconds() # https://www.tutorialspoint.com/How-to-convert-Python-date-to-Unix-timestamp\n",
    "\n",
    "par = {'units':'si'}\n",
    "\n",
    "url = \"https://api.darksky.net/forecast/\"+str(api_key)+\"/\"+str(Berlin[0])+\",\"+str(Berlin[1])+\",\"+str(int(timestamp))\n",
    "\n",
    "weather = requests.get(url, params = par)\n",
    "\n",
    "w_data = weather.json()\n",
    "\n",
    "w_df = pd.DataFrame(w_data['hourly']['data'])\n",
    "\n",
    "reqd_data = w_df[['time','apparentTemperature','humidity','cloudCover','summary']]\n",
    "\n",
    "reqd_data['time_std'] = reqd_data['time'].apply(lambda x: datetime.datetime.utcfromtimestamp(int(x)))\n",
    "\n",
    "reqd_data1 = reqd_data[['time_std','apparentTemperature','humidity','cloudCover','summary']]\n",
    "\n",
    "print 'Latitude: ',Berlin[0],\"\",'Longitude: ',Berlin[1]\n",
    "print\n",
    "print 'InputDateTime: ', dt\n",
    "print\n",
    "print 'InputUNIXtime: ', int(timestamp)\n",
    "print\n",
    "print weather.url\n",
    "print\n",
    "print w_df.columns\n",
    "print\n",
    "print reqd_data1\n",
    "\n",
    "if False:\n",
    "    reqd_data1.to_csv(r\"C:\\Users\\Sarath Sasidharan\\Desktop\\Required Weather Data.csv\", index = None)"
   ]
  },
  {
   "cell_type": "code",
   "execution_count": null,
   "metadata": {},
   "outputs": [],
   "source": []
  }
 ],
 "metadata": {
  "kernelspec": {
   "display_name": "Python 2",
   "language": "python",
   "name": "python2"
  },
  "language_info": {
   "codemirror_mode": {
    "name": "ipython",
    "version": 2
   },
   "file_extension": ".py",
   "mimetype": "text/x-python",
   "name": "python",
   "nbconvert_exporter": "python",
   "pygments_lexer": "ipython2",
   "version": "2.7.15"
  }
 },
 "nbformat": 4,
 "nbformat_minor": 2
}
